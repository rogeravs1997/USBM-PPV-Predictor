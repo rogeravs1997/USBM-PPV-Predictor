{
 "cells": [
  {
   "cell_type": "markdown",
   "id": "forced-committee",
   "metadata": {},
   "source": [
    "#         PPV PREDICTIVE MODEL - UNITED STATES BUREAU OF MINES\n"
   ]
  },
  {
   "cell_type": "markdown",
   "id": "known-sperm",
   "metadata": {},
   "source": [
    "At this notebook we are going to develop a script that finds optimal parameters K and B for the empiric formula to predict Peak Particle Values proposed by Wilbur I. Duvall at 1962. We'll use the Linear Least Square Error method with my own implementation of the Gradient Descent Algorithm.\n",
    "\n",
    "$$ v= K*\\left(\\frac{R}{Q_{max}}\\right)^{-B} $$\n",
    "\n",
    "Where: <br> \n",
    "        &emsp;v = Peak Particle Velocity \n",
    "        <br>\n",
    "        &emsp;R = Distance from measure point to blast site\n",
    "        <br>\n",
    "        &emsp;Q_max= Maximum Chanrge per Delay\n",
    "        "
   ]
  },
  {
   "cell_type": "markdown",
   "id": "clean-baseline",
   "metadata": {},
   "source": [
    "\n",
    "\n",
    "First, We need to import some useful packages"
   ]
  },
  {
   "cell_type": "code",
   "execution_count": 1,
   "id": "russian-importance",
   "metadata": {},
   "outputs": [],
   "source": [
    "#Numpy to matrix operations and data handling\n",
    "import numpy as np\n",
    "#Matplotlib to plot Learning Curves and Predictions\n",
    "%matplotlib inline \n",
    "from matplotlib import pyplot as plt \n",
    "#Pandas for Data Loading\n",
    "import pandas as pd\n",
    "#Train_test_spli to split the data into Train and Test Sets\n",
    "from sklearn.model_selection import train_test_split\n",
    "#MSE and R2 metrics to evaluate the model's yield\n",
    "from sklearn.metrics import mean_squared_error as MSE \n",
    "from sklearn.metrics import r2_score"
   ]
  },
  {
   "cell_type": "markdown",
   "id": "literary-account",
   "metadata": {},
   "source": [
    "Loading the dataset from a .xlsx file "
   ]
  },
  {
   "cell_type": "code",
   "execution_count": 2,
   "id": "earlier-enlargement",
   "metadata": {},
   "outputs": [],
   "source": [
    "file_name = \"PPV_data\"\n",
    "main_path = (\"D:\\Desktop\\Modelo Predictivo PPV\\database\")\n",
    "file_path = (file_name + \".xlsx\")\n",
    "sheet_name = \"data\"\n",
    "dataset = pd.read_excel(main_path + \"\\\\\" + file_path, sheet_name)\n",
    "\n",
    "# Random Sampling a subset of 200 examples\n",
    "dataset=dataset.sample(n=200,random_state=1)"
   ]
  },
  {
   "cell_type": "markdown",
   "id": "textile-shape",
   "metadata": {},
   "source": [
    "Defining Features (X) and Labels (y)"
   ]
  },
  {
   "cell_type": "code",
   "execution_count": 3,
   "id": "minimal-homework",
   "metadata": {},
   "outputs": [],
   "source": [
    "# Panda's dataframe handling\n",
    "X=dataset[[\"Distancia (m)\",\"Kg de columna explosiva\"]]\n",
    "y=dataset[\"PPV\"]\n",
    "\n",
    "# Casting into numpy arrays\n",
    "X=np.array(X,dtype=np.float64)\n",
    "y=np.array(y,dtype=np.float64)"
   ]
  },
  {
   "cell_type": "markdown",
   "id": "imported-trick",
   "metadata": {},
   "source": [
    "Splitting the data into Training and Test Sets"
   ]
  },
  {
   "cell_type": "code",
   "execution_count": 4,
   "id": "rotary-minute",
   "metadata": {},
   "outputs": [],
   "source": [
    "X_train, X_test, y_train, y_test = train_test_split(X, y, test_size=0.2, random_state=3,shuffle=True)\n",
    "\n",
    "#Reshaping 1D arrays into 2D arrays to aensure proper results while operating matrixes\n",
    "y_train.shape, y_test.shape = (-1, 1), (-1, 1)"
   ]
  },
  {
   "cell_type": "markdown",
   "id": "grave-cricket",
   "metadata": {},
   "source": [
    "Here we must do some simple math to transform original formula into a linear model.\n",
    "First, we have the original formula:\n",
    "\n",
    "$$ v= K*\\left(\\frac{R}{Q_{max}}\\right)^{-B} $$\n",
    "\n",
    "Then, we apply a natural log to each site of the equation and follows log rules\n",
    "\n",
    "$$ ln(v)= ln\\left( K*\\left(\\frac{R}{Q_{max}}\\right)^{-B}\\right) $$\n",
    "        <br>\n",
    "$$ ln(v)= ln\\left(K\\right) + ln\\left(\\left(\\frac{R}{Q_{max}}\\right)^{-B}\\right) $$\n",
    "        <br>\n",
    "$$ ln(v)= ln\\left(K\\right) -B * ln\\left(\\frac{R}{Q_{max}}\\right) $$\n",
    "\n",
    "Now we can solve as a linear regression problem, where we must learn parameters $\\alpha$ and $\\beta$ to fit the curve\n",
    "\n",
    "$$ y = \\alpha - \\beta.X $$\n",
    "\n",
    "Where:\n",
    "$$y=ln(v)\\\\\n",
    "X=ln\\left(\\frac{R}{Q_{max}}\\right)$$\n",
    "\n",
    "Then:\n",
    "$$K= e^\\alpha\\\\\n",
    "B=-\\beta$$\n",
    "\n",
    "\n"
   ]
  },
  {
   "cell_type": "markdown",
   "id": "unable-arrival",
   "metadata": {},
   "source": [
    "So, now we define a function to transform our data into the desire format"
   ]
  },
  {
   "cell_type": "code",
   "execution_count": 5,
   "id": "protected-windows",
   "metadata": {},
   "outputs": [],
   "source": [
    "def USBM_transform(X,y):\n",
    "    \"\"\"\n",
    "    Tansform a dataset into USBM format.\n",
    "\n",
    "    Parameters\n",
    "    ----------\n",
    "    X (numpy.ndarray) : The independent variable \n",
    "    y (numpy.ndarray) : The dependent data\n",
    "\n",
    "    Returns\n",
    "    -------\n",
    "    X_transformed (numpy.ndarray) : The independent variable transformed \n",
    "    y_transformed (numpy.ndarray) : The dependent data transformed\n",
    "\n",
    "    \"\"\"\n",
    "    X_transformed=np.log(X[:,0]/np.sqrt(X[:,1]))\n",
    "    y_transformed=np.log(y)\n",
    "    X_transformed.shape, y_transformed.shape = (-1, 1), (-1, 1)\n",
    "    \n",
    "    return X_transformed , y_transformed\n",
    "\n",
    "# It's just necessary to transform training data because we will fit the curve into this data.\n",
    "X_train_transformed , y_train_transformed = USBM_transform(X_train, y_train)\n",
    "\n",
    "# Adding an extra column of 1's to X in order to find intercept of the curve\n",
    "X_train_transformed=np.concatenate((np.ones((len(y_train_transformed),1)),X_train_transformed),axis=1)\n",
    "\n"
   ]
  },
  {
   "cell_type": "markdown",
   "id": "acting-lodging",
   "metadata": {},
   "source": [
    "**Now we will implement Gradient Descent Algorithm from scratch**"
   ]
  },
  {
   "cell_type": "markdown",
   "id": "hourly-military",
   "metadata": {},
   "source": [
    "Defining the Cost Function that allow us measure the yield of the current parameters "
   ]
  },
  {
   "cell_type": "code",
   "execution_count": 6,
   "id": "north-circular",
   "metadata": {},
   "outputs": [],
   "source": [
    "def computeCost(X,y,theta):\n",
    "    \"\"\"\n",
    "    Compute a variant of mean square error.\n",
    "    \n",
    "    Parameters\n",
    "    ----------\n",
    "    X (numpy.ndarray) : The independent variable \n",
    "    y (numpy.ndarray) : The dependent data\n",
    "    theta (numpy.ndarray) : Parameters\n",
    "\n",
    "    Returns\n",
    "    -------\n",
    "    J (float) : Cost\n",
    "\n",
    "    \"\"\"\n",
    "    m=len(y)\n",
    "    pred=X.dot(theta)\n",
    "    sqrError=np.square(pred-y)\n",
    "    J=(1/(2*m))*np.sum(sqrError)\n",
    "    return J"
   ]
  },
  {
   "cell_type": "markdown",
   "id": "hazardous-divorce",
   "metadata": {},
   "source": [
    "Defining a Gradient Descent Function"
   ]
  },
  {
   "cell_type": "code",
   "execution_count": 7,
   "id": "divine-hazard",
   "metadata": {},
   "outputs": [],
   "source": [
    "def gradientDescent(X, y, theta, alpha=0.01, num_iters=100):\n",
    "    \"\"\"\n",
    "    Gradient descent algorithm for linear models\n",
    "    \n",
    "    Parameters\n",
    "    ----------\n",
    "    X (numpy.ndarray) : The independent variable\n",
    "    y (numpy.ndarray) : The dependent data\n",
    "    theta (numpy.ndarray) : Parameters to optimize\n",
    "    alpha (float) : Learning rate. The default is 0.01.\n",
    "    num_iters (int) : Number of iterations. The default is 100.\n",
    "\n",
    "    Returns\n",
    "    -------\n",
    "    theta (numpy.ndarray) : Optimized parameters\n",
    "    J (list) : Cost history\n",
    "\n",
    "    \"\"\"\n",
    "    m=len(y)\n",
    "    J=[]\n",
    "    for i in range(num_iters):\n",
    "        error=X.dot(theta)-y\n",
    "        delta=(1/m)*error.T.dot(X)\n",
    "        theta=theta-(alpha*delta.T)\n",
    "        J.append([computeCost(X,y,theta)])\n",
    "    J=np.array(J)\n",
    "    return theta , J"
   ]
  },
  {
   "cell_type": "markdown",
   "id": "chinese-monitor",
   "metadata": {},
   "source": [
    "Setting initial values for theta, alpha and num_iters"
   ]
  },
  {
   "cell_type": "code",
   "execution_count": 8,
   "id": "raising-emphasis",
   "metadata": {},
   "outputs": [],
   "source": [
    "initial_theta=np.ones((len(X_train_transformed[1]),1))\n",
    "alpha=0.25\n",
    "num_iters=500 "
   ]
  },
  {
   "cell_type": "markdown",
   "id": "educated-stocks",
   "metadata": {},
   "source": [
    "Optimizing the values of theta with Gradient Descent Function, and dumping results into respective variables"
   ]
  },
  {
   "cell_type": "code",
   "execution_count": 9,
   "id": "material-heading",
   "metadata": {},
   "outputs": [],
   "source": [
    "theta_found,J_history=gradientDescent(X_train_transformed,y_train_transformed,initial_theta,alpha,num_iters)"
   ]
  },
  {
   "cell_type": "markdown",
   "id": "educational-cruise",
   "metadata": {},
   "source": [
    "Plotting the Cost function as a function of the number of iterations"
   ]
  },
  {
   "cell_type": "code",
   "execution_count": 10,
   "id": "abroad-designation",
   "metadata": {},
   "outputs": [
    {
     "data": {
      "image/png": "[encoded data removed]",
      "text/plain": [
       "<Figure size 432x288 with 1 Axes>"
      ]
     },
     "metadata": {
      "needs_background": "light"
     },
     "output_type": "display_data"
    }
   ],
   "source": [
    "def plotCost(J_history):\n",
    "    fig = plt.figure()\n",
    "    plt.plot(J_history)\n",
    "    fig.suptitle('Cost(J) in the time', fontsize=15)\n",
    "    plt.xlabel('Number of Iterations', fontsize=8)\n",
    "    plt.ylabel('Cost(J)', fontsize=8)\n",
    "    \n",
    "plotCost(J_history)\n"
   ]
  },
  {
   "cell_type": "markdown",
   "id": "favorite-spice",
   "metadata": {},
   "source": [
    "Retrieving values of K and B from theta_found"
   ]
  },
  {
   "cell_type": "code",
   "execution_count": 11,
   "id": "lesbian-hearts",
   "metadata": {},
   "outputs": [
    {
     "name": "stdout",
     "output_type": "stream",
     "text": [
      "K value learned: [400.83917479]\n",
      "B value learned: [1.30149609]\n"
     ]
    }
   ],
   "source": [
    "K=np.exp(theta_found[0])\n",
    "B=-1*theta_found[1]\n",
    "\n",
    "print(\"K value learned: {}\".format(K))\n",
    "print(\"B value learned: {}\".format(B))"
   ]
  },
  {
   "cell_type": "markdown",
   "id": "grateful-retailer",
   "metadata": {},
   "source": [
    "**Now we are ready to make predictions and measure the performance of the model**"
   ]
  },
  {
   "cell_type": "code",
   "execution_count": 12,
   "id": "public-washer",
   "metadata": {},
   "outputs": [],
   "source": [
    "def predict_USBM ( X , K , B ):\n",
    "    \"\"\"\n",
    "    Predict values of Peak Particle Velocity given a dataset and constants K and B\n",
    "\n",
    "    Parameters\n",
    "    ----------\n",
    "    X (numpy.ndarray) : Dependant variables. Where: X[:,0] = Distance from measure point to blast site and\n",
    "                                                      X[:,1] = Maximun Charge per Delay\n",
    "    K (float) : Site constant\n",
    "    B (float) : Site constant\n",
    "\n",
    "    Returns\n",
    "    -------\n",
    "    pred (numpy.ndarray) : Peak Particle Velocity Predictions\n",
    "\n",
    "    \"\"\"\n",
    "    pred=K*((X[:,0]/X[:,1]**0.5)**(-B))\n",
    "    return pred\n",
    "\n",
    "pred_train=predict_USBM(X_train,K,B)\n",
    "pred_test=predict_USBM(X_test,K,B)"
   ]
  },
  {
   "cell_type": "markdown",
   "id": "handmade-cursor",
   "metadata": {},
   "source": [
    "Plotting Y_test values and Predicted Y_test Values"
   ]
  },
  {
   "cell_type": "code",
   "execution_count": 13,
   "id": "cloudy-michael",
   "metadata": {},
   "outputs": [
    {
     "data": {
      "image/png": "[encoded data removed]",
      "text/plain": [
       "<Figure size 432x288 with 1 Axes>"
      ]
     },
     "metadata": {
      "needs_background": "light"
     },
     "output_type": "display_data"
    }
   ],
   "source": [
    "plt.figure()\n",
    "plt.plot(y_test, color = 'red', label = 'Real data')\n",
    "plt.plot(pred_test, color = 'blue', label = 'Predicted data')\n",
    "plt.title('Prediction USBM')\n",
    "plt.legend()\n",
    "plt.show()"
   ]
  },
  {
   "cell_type": "markdown",
   "id": "opposite-shame",
   "metadata": {},
   "source": [
    "Evaluating the model"
   ]
  },
  {
   "cell_type": "code",
   "execution_count": 14,
   "id": "universal-palace",
   "metadata": {},
   "outputs": [
    {
     "name": "stdout",
     "output_type": "stream",
     "text": [
      "Root Mean Square Error in the Train Set: 31.00\n",
      "Root Mean Square Error in the Test Set: 33.30\n",
      "\n",
      "Coefficient of Determination R2 in the Train Set: 0.54\n",
      "Coefficient of Determination R2 in the Test Set: 0.53\n"
     ]
    }
   ],
   "source": [
    "print(\"Root Mean Square Error in the Train Set: {:.2f}\".format(MSE(y_train,pred_train)**(1/2)))\n",
    "print(\"Root Mean Square Error in the Test Set: {:.2f}\\n\".format(MSE(y_test,pred_test)**(1/2)))\n",
    "\n",
    "print(\"Coefficient of Determination R2 in the Train Set: {:.2f}\".format(r2_score(y_train,pred_train)))\n",
    "print(\"Coefficient of Determination R2 in the Test Set: {:.2f}\".format(r2_score(y_test,pred_test)))"
   ]
  },
  {
   "cell_type": "markdown",
   "id": "julian-pierre",
   "metadata": {},
   "source": [
    "It's important to mention that this could be achieve easily with an specialiazed package like Linear Regression from SKLearn or curve_fit from Scipy. However, this implementation allows the reader to understand the math behind optimization algorithms like gradient descent."
   ]
  }
 ],
 "metadata": {
  "kernelspec": {
   "display_name": "Python 3",
   "language": "python",
   "name": "python3"
  },
  "language_info": {
   "codemirror_mode": {
    "name": "ipython",
    "version": 3
   },
   "file_extension": ".py",
   "mimetype": "text/x-python",
   "name": "python",
   "nbconvert_exporter": "python",
   "pygments_lexer": "ipython3",
   "version": "3.7.9"
  }
 },
 "nbformat": 4,
 "nbformat_minor": 5
}
